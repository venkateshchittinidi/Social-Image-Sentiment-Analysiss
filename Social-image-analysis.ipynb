{
 "cells": [
  {
   "cell_type": "code",
   "execution_count": 113,
   "metadata": {},
   "outputs": [],
   "source": [
    "from PIL import Image\n",
    "import pandas as pd\n",
    "import numpy as np\n",
    "import os\n",
    "import tensorflow as tf\n",
    "import keras\n",
    "import warnings\n",
    "warnings.filterwarnings(\"ignore\")"
   ]
  },
  {
   "cell_type": "code",
   "execution_count": 114,
   "metadata": {},
   "outputs": [
    {
     "name": "stderr",
     "output_type": "stream",
     "text": [
      "[nltk_data] Downloading package stopwords to\n",
      "[nltk_data]     C:\\Users\\ss\\AppData\\Roaming\\nltk_data...\n",
      "[nltk_data]   Package stopwords is already up-to-date!\n"
     ]
    },
    {
     "data": {
      "text/plain": [
       "True"
      ]
     },
     "execution_count": 114,
     "metadata": {},
     "output_type": "execute_result"
    }
   ],
   "source": [
    "import nltk\n",
    "from nltk.corpus import stopwords\n",
    "import re\n",
    "import joblib\n",
    "from keras.preprocessing.text import Tokenizer\n",
    "#import gensim\n",
    "from keras.preprocessing.sequence import pad_sequences\n",
    "from sklearn.preprocessing import LabelEncoder\n",
    "from keras.layers import Embedding\n",
    "from keras.models import Sequential\n",
    "from keras.layers import Dense,LSTM,Dropout\n",
    "from sklearn.metrics import confusion_matrix,accuracy_score,classification_report\n",
    "import nltk\n",
    "nltk.download('stopwords')"
   ]
  },
  {
   "cell_type": "code",
   "execution_count": 115,
   "metadata": {},
   "outputs": [],
   "source": [
    "import keras"
   ]
  },
  {
   "cell_type": "code",
   "execution_count": 116,
   "metadata": {},
   "outputs": [],
   "source": [
    "def cnn_model(path_loc):\n",
    "    import tensorflow as tf\n",
    "    import keras\n",
    "    from keras.models import Sequential\n",
    "    from keras.layers import Convolution2D\n",
    "    from keras.layers import MaxPool2D\n",
    "    from keras.layers import Flatten\n",
    "    from keras.layers import Dense\n",
    "    \n",
    "    # Initializing CNN\n",
    "        \n",
    "    classifier = Sequential()\n",
    "    \n",
    "    # Step 1 : convolution\n",
    "    classifier.add(Convolution2D(32,3,3,input_shape=(128,128,3),activation='relu'))\n",
    "\n",
    "    # Step 2 : Pooling\n",
    "    classifier.add(MaxPool2D(pool_size=(2,2)))\n",
    "\n",
    "    # Adding second convolution layer.\n",
    "    classifier.add(Convolution2D(32,3,3,activation='relu'))\n",
    "    classifier.add(MaxPool2D(pool_size=(2,2)))\n",
    "        \n",
    "    # step 3 : flattening\n",
    "    classifier.add(Flatten())\n",
    "\n",
    "    # step 4 : Full connection\n",
    "    classifier.add(Dense(units= 128,activation='relu')) \n",
    "    classifier.add(Dense(units=3,activation='softmax'))\n",
    "\n",
    "    classifier.compile(optimizer='adam',metrics=['accuracy'],loss='categorical_crossentropy')\n",
    "\n",
    "    # fitting CNN to the images\n",
    "\n",
    "    from keras.preprocessing.image import ImageDataGenerator\n",
    "\n",
    "    train_datagen = ImageDataGenerator(rescale = 1./255, # image agumentation\n",
    "                                   shear_range = 0.2,\n",
    "                                   zoom_range = 0.2,\n",
    "                                   horizontal_flip = True)\n",
    "    test_datagen = ImageDataGenerator(rescale=1./255) # test data don't need much image agumentation.\n",
    "    import os\n",
    "\n",
    "    os.chdir(path_loc) # train and test path location\n",
    "    training_set = train_datagen.flow_from_directory('F:/NIT/2020-New_projects/NITPIP03 - Social Image Sentiment Analysis/CODE/Original Code/Cnn_model/dataset',\n",
    "                                                 target_size = (128, 128),\n",
    "                                                 batch_size = 12,\n",
    "                                                 class_mode = 'categorical') \n",
    "\n",
    "    test_set = test_datagen.flow_from_directory('F:/NIT/2020-New_projects/NITPIP03 - Social Image Sentiment Analysis/CODE/Original Code/Cnn_model/dataset',\n",
    "                                            target_size = (128, 128),\n",
    "                                            batch_size = 12,\n",
    "                                           class_mode = 'categorical')\n",
    "\n",
    "    # buliding model and performing model validation simultaneously\n",
    "    history=classifier.fit_generator(training_set,\n",
    "                         steps_per_epoch = 12, # number of images to be taken from training data set. \n",
    "                         epochs  = 15, \n",
    "                         validation_data = test_set,\n",
    "                         validation_steps = 10) # number of images to be taken from test data set.\n",
    "\n",
    "    return (training_set ,classifier,history)\n",
    "\n",
    "\n"
   ]
  },
  {
   "cell_type": "code",
   "execution_count": 117,
   "metadata": {},
   "outputs": [
    {
     "name": "stdout",
     "output_type": "stream",
     "text": [
      "Found 638 images belonging to 3 classes.\n",
      "Found 638 images belonging to 3 classes.\n",
      "Epoch 1/15\n",
      "12/12 [==============================] - 2s 207ms/step - loss: 0.7921 - accuracy: 0.5625 - val_loss: 0.6953 - val_accuracy: 0.5667\n",
      "Epoch 2/15\n",
      "12/12 [==============================] - 2s 138ms/step - loss: 0.7022 - accuracy: 0.5224 - val_loss: 0.6770 - val_accuracy: 0.5833\n",
      "Epoch 3/15\n",
      "12/12 [==============================] - 1s 112ms/step - loss: 0.6642 - accuracy: 0.6111 - val_loss: 0.6525 - val_accuracy: 0.5750\n",
      "Epoch 4/15\n",
      "12/12 [==============================] - 1s 107ms/step - loss: 0.6561 - accuracy: 0.6194 - val_loss: 0.6476 - val_accuracy: 0.7000\n",
      "Epoch 5/15\n",
      "12/12 [==============================] - 1s 100ms/step - loss: 0.6647 - accuracy: 0.6181 - val_loss: 0.6674 - val_accuracy: 0.5917\n",
      "Epoch 6/15\n",
      "12/12 [==============================] - 1s 100ms/step - loss: 0.7080 - accuracy: 0.5069 - val_loss: 0.6302 - val_accuracy: 0.6000\n",
      "Epoch 7/15\n",
      "12/12 [==============================] - 1s 90ms/step - loss: 0.6781 - accuracy: 0.5278 - val_loss: 0.6136 - val_accuracy: 0.8583\n",
      "Epoch 8/15\n",
      "12/12 [==============================] - 1s 78ms/step - loss: 0.6156 - accuracy: 0.7985 - val_loss: 0.5975 - val_accuracy: 0.7917\n",
      "Epoch 9/15\n",
      "12/12 [==============================] - 1s 92ms/step - loss: 0.5799 - accuracy: 0.6944 - val_loss: 0.5279 - val_accuracy: 0.8417\n",
      "Epoch 10/15\n",
      "12/12 [==============================] - 1s 86ms/step - loss: 0.5733 - accuracy: 0.7708 - val_loss: 0.6030 - val_accuracy: 0.6167\n",
      "Epoch 11/15\n",
      "12/12 [==============================] - 1s 87ms/step - loss: 0.6385 - accuracy: 0.6458 - val_loss: 0.4958 - val_accuracy: 0.7750\n",
      "Epoch 12/15\n",
      "12/12 [==============================] - 1s 97ms/step - loss: 0.4979 - accuracy: 0.8056 - val_loss: 0.4639 - val_accuracy: 0.8083\n",
      "Epoch 13/15\n",
      "12/12 [==============================] - 1s 85ms/step - loss: 0.4929 - accuracy: 0.7778 - val_loss: 0.4300 - val_accuracy: 0.8333\n",
      "Epoch 14/15\n",
      "12/12 [==============================] - 1s 83ms/step - loss: 0.5835 - accuracy: 0.6875 - val_loss: 0.4164 - val_accuracy: 0.8667\n",
      "Epoch 15/15\n",
      "12/12 [==============================] - 1s 90ms/step - loss: 0.4405 - accuracy: 0.8125 - val_loss: 0.6583 - val_accuracy: 0.5417\n"
     ]
    }
   ],
   "source": [
    "training_set ,classifier,history= cnn_model('F:/NIT/2020-New_projects/NITPIP03 - Social Image Sentiment Analysis/CODE/Original Code/Cnn_model/dataset')"
   ]
  },
  {
   "cell_type": "code",
   "execution_count": 118,
   "metadata": {},
   "outputs": [],
   "source": [
    "import numpy as np\n",
    "from keras.preprocessing import image"
   ]
  },
  {
   "cell_type": "code",
   "execution_count": 119,
   "metadata": {},
   "outputs": [],
   "source": [
    "%matplotlib inline\n",
    "test_image = image.load_img('F:/NIT/2020-New_projects/NITPIP03 - Social Image Sentiment Analysis/CODE/Original Code/Cnn_model/dataset/Serving animals/9k_ (4).jpg', target_size = (128, 128))\n",
    "test_image.show()"
   ]
  },
  {
   "cell_type": "code",
   "execution_count": 120,
   "metadata": {},
   "outputs": [
    {
     "data": {
      "text/plain": [
       "(128, 128, 3)"
      ]
     },
     "execution_count": 120,
     "metadata": {},
     "output_type": "execute_result"
    }
   ],
   "source": [
    "test_image = image.img_to_array(test_image)\n",
    "test_image\n",
    "np.shape(test_image) "
   ]
  },
  {
   "cell_type": "code",
   "execution_count": 121,
   "metadata": {},
   "outputs": [
    {
     "data": {
      "text/plain": [
       "'<module>'"
      ]
     },
     "execution_count": 121,
     "metadata": {},
     "output_type": "execute_result"
    }
   ],
   "source": [
    "import inspect\n",
    "function_name = inspect.stack()[0][3]\n",
    "function_name"
   ]
  },
  {
   "cell_type": "code",
   "execution_count": 122,
   "metadata": {},
   "outputs": [
    {
     "data": {
      "text/plain": [
       "(1, 128, 128, 3)"
      ]
     },
     "execution_count": 122,
     "metadata": {},
     "output_type": "execute_result"
    }
   ],
   "source": [
    "test_image = np.expand_dims(test_image, axis = 0)\n",
    "test_image\n",
    "np.shape(test_image)"
   ]
  },
  {
   "cell_type": "code",
   "execution_count": 123,
   "metadata": {},
   "outputs": [],
   "source": [
    "test = training_set.class_indices"
   ]
  },
  {
   "cell_type": "code",
   "execution_count": 124,
   "metadata": {},
   "outputs": [
    {
     "name": "stdout",
     "output_type": "stream",
     "text": [
      "WARNING:tensorflow:7 out of the last 11 calls to <function Model.make_predict_function.<locals>.predict_function at 0x000001D403833C10> triggered tf.function retracing. Tracing is expensive and the excessive number of tracings could be due to (1) creating @tf.function repeatedly in a loop, (2) passing tensors with different shapes, (3) passing Python objects instead of tensors. For (1), please define your @tf.function outside of the loop. For (2), @tf.function has experimental_relax_shapes=True option that relaxes argument shapes that can avoid unnecessary retracing. For (3), please refer to https://www.tensorflow.org/tutorials/customization/performance#python_or_tensor_args and https://www.tensorflow.org/api_docs/python/tf/function for  more details.\n"
     ]
    },
    {
     "data": {
      "text/plain": [
       "2"
      ]
     },
     "execution_count": 124,
     "metadata": {},
     "output_type": "execute_result"
    }
   ],
   "source": [
    "result = classifier.predict_classes(test_image)\n",
    "result \n",
    "result = result[0]\n",
    "result"
   ]
  },
  {
   "cell_type": "code",
   "execution_count": 125,
   "metadata": {},
   "outputs": [
    {
     "name": "stdout",
     "output_type": "stream",
     "text": [
      "The Predected image is Serving animals\n"
     ]
    }
   ],
   "source": [
    "for key, value in test.items(): \n",
    "        if value == result: \n",
    "            print(\"The Predected image is\", key)"
   ]
  },
  {
   "cell_type": "code",
   "execution_count": 126,
   "metadata": {},
   "outputs": [],
   "source": [
    "train_df = pd.read_csv('F:/NIT/2020-New_projects/NITPIP03 - Social Image Sentiment Analysis/CODE/Original Code/Rnn_model/Rnn_code/training.1600000.processed.noemoticon.csv',encoding='latin-1',header=None)"
   ]
  },
  {
   "cell_type": "code",
   "execution_count": 127,
   "metadata": {},
   "outputs": [
    {
     "data": {
      "text/html": [
       "<div>\n",
       "<style scoped>\n",
       "    .dataframe tbody tr th:only-of-type {\n",
       "        vertical-align: middle;\n",
       "    }\n",
       "\n",
       "    .dataframe tbody tr th {\n",
       "        vertical-align: top;\n",
       "    }\n",
       "\n",
       "    .dataframe thead th {\n",
       "        text-align: right;\n",
       "    }\n",
       "</style>\n",
       "<table border=\"1\" class=\"dataframe\">\n",
       "  <thead>\n",
       "    <tr style=\"text-align: right;\">\n",
       "      <th></th>\n",
       "      <th>0</th>\n",
       "      <th>1</th>\n",
       "      <th>2</th>\n",
       "      <th>3</th>\n",
       "      <th>4</th>\n",
       "      <th>5</th>\n",
       "    </tr>\n",
       "  </thead>\n",
       "  <tbody>\n",
       "    <tr>\n",
       "      <th>0</th>\n",
       "      <td>0</td>\n",
       "      <td>1467810369</td>\n",
       "      <td>Mon Apr 06 22:19:45 PDT 2009</td>\n",
       "      <td>NO_QUERY</td>\n",
       "      <td>_TheSpecialOne_</td>\n",
       "      <td>@switchfoot http://twitpic.com/2y1zl - Awww, t...</td>\n",
       "    </tr>\n",
       "    <tr>\n",
       "      <th>1</th>\n",
       "      <td>0</td>\n",
       "      <td>1467810672</td>\n",
       "      <td>Mon Apr 06 22:19:49 PDT 2009</td>\n",
       "      <td>NO_QUERY</td>\n",
       "      <td>scotthamilton</td>\n",
       "      <td>is upset that he can't update his Facebook by ...</td>\n",
       "    </tr>\n",
       "    <tr>\n",
       "      <th>2</th>\n",
       "      <td>0</td>\n",
       "      <td>1467810917</td>\n",
       "      <td>Mon Apr 06 22:19:53 PDT 2009</td>\n",
       "      <td>NO_QUERY</td>\n",
       "      <td>mattycus</td>\n",
       "      <td>@Kenichan I dived many times for the ball. Man...</td>\n",
       "    </tr>\n",
       "    <tr>\n",
       "      <th>3</th>\n",
       "      <td>0</td>\n",
       "      <td>1467811184</td>\n",
       "      <td>Mon Apr 06 22:19:57 PDT 2009</td>\n",
       "      <td>NO_QUERY</td>\n",
       "      <td>ElleCTF</td>\n",
       "      <td>my whole body feels itchy and like its on fire</td>\n",
       "    </tr>\n",
       "    <tr>\n",
       "      <th>4</th>\n",
       "      <td>0</td>\n",
       "      <td>1467811193</td>\n",
       "      <td>Mon Apr 06 22:19:57 PDT 2009</td>\n",
       "      <td>NO_QUERY</td>\n",
       "      <td>Karoli</td>\n",
       "      <td>@nationwideclass no, it's not behaving at all....</td>\n",
       "    </tr>\n",
       "  </tbody>\n",
       "</table>\n",
       "</div>"
      ],
      "text/plain": [
       "   0           1                             2         3                4  \\\n",
       "0  0  1467810369  Mon Apr 06 22:19:45 PDT 2009  NO_QUERY  _TheSpecialOne_   \n",
       "1  0  1467810672  Mon Apr 06 22:19:49 PDT 2009  NO_QUERY    scotthamilton   \n",
       "2  0  1467810917  Mon Apr 06 22:19:53 PDT 2009  NO_QUERY         mattycus   \n",
       "3  0  1467811184  Mon Apr 06 22:19:57 PDT 2009  NO_QUERY          ElleCTF   \n",
       "4  0  1467811193  Mon Apr 06 22:19:57 PDT 2009  NO_QUERY           Karoli   \n",
       "\n",
       "                                                   5  \n",
       "0  @switchfoot http://twitpic.com/2y1zl - Awww, t...  \n",
       "1  is upset that he can't update his Facebook by ...  \n",
       "2  @Kenichan I dived many times for the ball. Man...  \n",
       "3    my whole body feels itchy and like its on fire   \n",
       "4  @nationwideclass no, it's not behaving at all....  "
      ]
     },
     "execution_count": 127,
     "metadata": {},
     "output_type": "execute_result"
    }
   ],
   "source": [
    "train_df.head()"
   ]
  },
  {
   "cell_type": "code",
   "execution_count": 128,
   "metadata": {},
   "outputs": [],
   "source": [
    "columns=['target','ids','date','flag','user','text']\n",
    "train_df.columns=columns"
   ]
  },
  {
   "cell_type": "code",
   "execution_count": 129,
   "metadata": {},
   "outputs": [],
   "source": [
    "tokenizer = Tokenizer()\n",
    "tokenizer.fit_on_texts(train_df.text)"
   ]
  },
  {
   "cell_type": "code",
   "execution_count": 130,
   "metadata": {},
   "outputs": [],
   "source": [
    "stop_words=set(stopwords.words('english'))\n",
    "stop_words.remove('not')"
   ]
  },
  {
   "cell_type": "code",
   "execution_count": 131,
   "metadata": {},
   "outputs": [],
   "source": [
    "def preprocess(text):\n",
    "    review=re.sub('@\\S+|https?:\\S+|http?:\\S|[^A-Za-z0-9]+',' ',text)\n",
    "    review=review.lower()\n",
    "    review=review.split()\n",
    "    review=[word for word in review if not word in stop_words]\n",
    "    #print(review)\n",
    "    review=pad_sequences(tokenizer.texts_to_sequences([review]), maxlen=300)\n",
    "    return review"
   ]
  },
  {
   "cell_type": "code",
   "execution_count": 132,
   "metadata": {},
   "outputs": [],
   "source": [
    "def text_prediction(review,text_model):\n",
    "    review=preprocess(review)\n",
    "    score=text_model.predict(review)\n",
    "    score=score[0]\n",
    "    if score<0.4:\n",
    "        return \"Negative\"\n",
    "    elif score>0.4 and score<0.6:\n",
    "        return \"Neutral\"\n",
    "    else:\n",
    "        return \"Positive\"\n",
    "    #print(score)"
   ]
  },
  {
   "cell_type": "code",
   "execution_count": 133,
   "metadata": {},
   "outputs": [],
   "source": [
    "from keras.models import load_model"
   ]
  },
  {
   "cell_type": "code",
   "execution_count": 134,
   "metadata": {},
   "outputs": [],
   "source": [
    "model_test = load_model('F:/NIT/2020-New_projects/NITPIP03 - Social Image Sentiment Analysis/CODE/Original Code/Cnn_model/sentiment_teja.h5')"
   ]
  },
  {
   "cell_type": "code",
   "execution_count": 135,
   "metadata": {},
   "outputs": [],
   "source": [
    "def img_process(test_img,cnn_model):\n",
    "    test_image = image.load_img(test_img, target_size = (128, 128))\n",
    "    img_ = image.img_to_array(test_image)\n",
    "    img_ = np.expand_dims(img_, axis = 0)\n",
    "    #print(np.shape(img_))\n",
    "    classes = training_set.class_indices\n",
    "    result = cnn_model.predict_classes(img_)\n",
    "    result = result[0]\n",
    "    for key, value in classes.items(): \n",
    "        if value == result: \n",
    "            return \"The Predected image is\", key"
   ]
  },
  {
   "cell_type": "code",
   "execution_count": 136,
   "metadata": {},
   "outputs": [],
   "source": [
    "def complete_predection(test_img,cnn_model,review,text_model):\n",
    "    resp1 = img_process(test_img,cnn_model)\n",
    "    #print(resp1)\n",
    "    resp2 = text_prediction(review,text_model)\n",
    "    #print(resp2)\n",
    "    return resp1,resp2"
   ]
  },
  {
   "cell_type": "code",
   "execution_count": 137,
   "metadata": {},
   "outputs": [],
   "source": [
    "text_model = load_model('F:/NIT/2020-New_projects/NITPIP03 - Social Image Sentiment Analysis/CODE/Original Code/Cnn_model/sentiment_teja.h5')"
   ]
  },
  {
   "cell_type": "code",
   "execution_count": 138,
   "metadata": {},
   "outputs": [],
   "source": [
    "cnn_model = load_model('F:/NIT/2020-New_projects/NITPIP03 - Social Image Sentiment Analysis/CODE/Original Code/Cnn_model/cnn_model.h5')"
   ]
  },
  {
   "cell_type": "code",
   "execution_count": 139,
   "metadata": {},
   "outputs": [],
   "source": [
    "test_img = \"F:/NIT/2020-New_projects/NITPIP03 - Social Image Sentiment Analysis/CODE/Original Code/Cnn_model\\dataset/Serving animals/9k_ (4).jpg\""
   ]
  },
  {
   "cell_type": "code",
   "execution_count": 140,
   "metadata": {},
   "outputs": [],
   "source": [
    "review = \"i love with my dog\""
   ]
  },
  {
   "cell_type": "code",
   "execution_count": 141,
   "metadata": {},
   "outputs": [
    {
     "name": "stdout",
     "output_type": "stream",
     "text": [
      "WARNING:tensorflow:7 out of the last 11 calls to <function Model.make_predict_function.<locals>.predict_function at 0x000001D4196D1940> triggered tf.function retracing. Tracing is expensive and the excessive number of tracings could be due to (1) creating @tf.function repeatedly in a loop, (2) passing tensors with different shapes, (3) passing Python objects instead of tensors. For (1), please define your @tf.function outside of the loop. For (2), @tf.function has experimental_relax_shapes=True option that relaxes argument shapes that can avoid unnecessary retracing. For (3), please refer to https://www.tensorflow.org/tutorials/customization/performance#python_or_tensor_args and https://www.tensorflow.org/api_docs/python/tf/function for  more details.\n",
      "WARNING:tensorflow:8 out of the last 12 calls to <function Model.make_predict_function.<locals>.predict_function at 0x000001D419D51670> triggered tf.function retracing. Tracing is expensive and the excessive number of tracings could be due to (1) creating @tf.function repeatedly in a loop, (2) passing tensors with different shapes, (3) passing Python objects instead of tensors. For (1), please define your @tf.function outside of the loop. For (2), @tf.function has experimental_relax_shapes=True option that relaxes argument shapes that can avoid unnecessary retracing. For (3), please refer to https://www.tensorflow.org/tutorials/customization/performance#python_or_tensor_args and https://www.tensorflow.org/api_docs/python/tf/function for  more details.\n"
     ]
    },
    {
     "data": {
      "text/plain": [
       "(('The Predected image is', 'Serving animals'), 'Positive')"
      ]
     },
     "execution_count": 141,
     "metadata": {},
     "output_type": "execute_result"
    }
   ],
   "source": [
    "complete_predection(test_img,cnn_model,review,text_model)"
   ]
  },
  {
   "cell_type": "code",
   "execution_count": 142,
   "metadata": {},
   "outputs": [],
   "source": [
    "#resp1,resp2 = complete_predection(test_img,cnn_model,review,text_model)"
   ]
  },
  {
   "cell_type": "code",
   "execution_count": 143,
   "metadata": {},
   "outputs": [],
   "source": [
    "#resp1"
   ]
  },
  {
   "cell_type": "code",
   "execution_count": 144,
   "metadata": {},
   "outputs": [
    {
     "data": {
      "text/plain": [
       "'Positive'"
      ]
     },
     "execution_count": 144,
     "metadata": {},
     "output_type": "execute_result"
    }
   ],
   "source": [
    "resp2"
   ]
  },
  {
   "cell_type": "code",
   "execution_count": null,
   "metadata": {},
   "outputs": [],
   "source": []
  }
 ],
 "metadata": {
  "kernelspec": {
   "display_name": "Python 3",
   "language": "python",
   "name": "python3"
  },
  "language_info": {
   "codemirror_mode": {
    "name": "ipython",
    "version": 3
   },
   "file_extension": ".py",
   "mimetype": "text/x-python",
   "name": "python",
   "nbconvert_exporter": "python",
   "pygments_lexer": "ipython3",
   "version": "3.8.3"
  }
 },
 "nbformat": 4,
 "nbformat_minor": 4
}
